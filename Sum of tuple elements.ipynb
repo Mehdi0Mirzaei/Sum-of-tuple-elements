{
 "cells": [
  {
   "cell_type": "code",
   "execution_count": 3,
   "id": "6f65d6c1",
   "metadata": {},
   "outputs": [],
   "source": [
    "def summation(test_tup):\n",
    " # Converting into list\n",
    "    test = list(test_tup)\n",
    " # Initializing count\n",
    "    count = 0\n",
    " # for loop\n",
    "    for i in test:\n",
    "        count += i\n",
    "    return count"
   ]
  },
  {
   "cell_type": "code",
   "execution_count": 5,
   "id": "81e220fa",
   "metadata": {},
   "outputs": [],
   "source": [
    "t1=1,2,3,4,5,6,7"
   ]
  },
  {
   "cell_type": "code",
   "execution_count": 6,
   "id": "622f0596",
   "metadata": {},
   "outputs": [
    {
     "data": {
      "text/plain": [
       "28"
      ]
     },
     "execution_count": 6,
     "metadata": {},
     "output_type": "execute_result"
    }
   ],
   "source": [
    "summation(t1)"
   ]
  },
  {
   "cell_type": "code",
   "execution_count": 7,
   "id": "d5bdc33a",
   "metadata": {},
   "outputs": [
    {
     "name": "stdout",
     "output_type": "stream",
     "text": [
      "The original tuple is : ([7, 8], [9, 1], [10, 7])\n",
      "The summation of tuple elements are : 42\n"
     ]
    }
   ],
   "source": [
    "# Python 3 code to demonstrate working of\n",
    "# Tuple elements inversions\n",
    "# Using map() + list() + sum()\n",
    " \n",
    "# initializing tup\n",
    "test_tup = ([7, 8], [9, 1], [10, 7])\n",
    " \n",
    "# printing original tuple\n",
    "print(\"The original tuple is : \" + str(test_tup))\n",
    " \n",
    "# Tuple elements inversions\n",
    "# Using map() + list() + sum()\n",
    "res = sum(list(map(sum, list(test_tup))))\n",
    " \n",
    "# printing result\n",
    "print(\"The summation of tuple elements are : \" + str(res))"
   ]
  },
  {
   "cell_type": "code",
   "execution_count": 8,
   "id": "43970925",
   "metadata": {},
   "outputs": [
    {
     "name": "stdout",
     "output_type": "stream",
     "text": [
      "The original tuple is : (7, 8, 9, 1, 10, 7)\n",
      "The summation of tuple elements are : 42\n"
     ]
    }
   ],
   "source": [
    "# Python3 code to demonstrate working of\n",
    "# Tuple summation\n",
    " \n",
    "# Initializing tuple\n",
    "test_tup = (7, 8, 9, 1, 10, 7)\n",
    " \n",
    "# Printing original tuple\n",
    "print(\"The original tuple is : \" + str(test_tup))\n",
    " \n",
    "res = 0\n",
    "for i in test_tup:\n",
    "    res += i\n",
    " # Printing result\n",
    "print(\"The summation of tuple elements are : \" + str(res))"
   ]
  },
  {
   "cell_type": "code",
   "execution_count": 9,
   "id": "1f4eedc6",
   "metadata": {},
   "outputs": [
    {
     "name": "stdout",
     "output_type": "stream",
     "text": [
      "49\n"
     ]
    }
   ],
   "source": [
    "def summation(test_tup):\n",
    "    # Convert the tuple to a list using a list comprehension\n",
    "    test = [x for x in test_tup]\n",
    "     \n",
    "    # Find the sum of the elements in the list using the built-in sum() function\n",
    "    return sum(test)\n",
    " \n",
    "# Test the function with a tuple of integers\n",
    "test_tup = (5, 20, 3, 7, 6, 8)\n",
    "print(summation(test_tup))"
   ]
  },
  {
   "cell_type": "code",
   "execution_count": 10,
   "id": "7fb7629d",
   "metadata": {},
   "outputs": [
    {
     "name": "stdout",
     "output_type": "stream",
     "text": [
      "49\n"
     ]
    }
   ],
   "source": [
    "def summation2(test_tup):\n",
    "    # Check if the input is empty or contains non-integer elements\n",
    "    if len(test_tup) == 0:\n",
    "        raise ValueError(\"Input tuple is empty\")\n",
    "    if not all(isinstance(x, int) for x in test_tup):\n",
    "        raise TypeError(\"Input tuple must contain only integers\")\n",
    "     # Use a generator expression to convert \n",
    "    # the tuple to an iterable\n",
    "    iterable = (x for x in test_tup)\n",
    "     \n",
    "    # Find the sum of the elements in the iterable \n",
    "    # using the built-in sum() function\n",
    "    total_sum = sum(iterable)\n",
    "     \n",
    "    return total_sum\n",
    "test_tup = (5, 20, 3, 7, 6, 8)\n",
    "print(summation2(test_tup))"
   ]
  },
  {
   "cell_type": "code",
   "execution_count": 11,
   "id": "0b0bc95b",
   "metadata": {},
   "outputs": [
    {
     "name": "stdout",
     "output_type": "stream",
     "text": [
      "(12, 15, 18)\n"
     ]
    }
   ],
   "source": [
    "tuple1 = (1, 2, 3)\n",
    "tuple2 = (4, 5, 6)\n",
    "tuple3 = (7, 8, 9)\n",
    " \n",
    "combined = zip(tuple1, tuple2, tuple3)\n",
    "result = tuple(map(sum, combined))\n",
    "print(result)  "
   ]
  },
  {
   "cell_type": "code",
   "execution_count": null,
   "id": "ee727e85",
   "metadata": {},
   "outputs": [],
   "source": []
  }
 ],
 "metadata": {
  "kernelspec": {
   "display_name": "Python 3 (ipykernel)",
   "language": "python",
   "name": "python3"
  },
  "language_info": {
   "codemirror_mode": {
    "name": "ipython",
    "version": 3
   },
   "file_extension": ".py",
   "mimetype": "text/x-python",
   "name": "python",
   "nbconvert_exporter": "python",
   "pygments_lexer": "ipython3",
   "version": "3.9.13"
  }
 },
 "nbformat": 4,
 "nbformat_minor": 5
}
